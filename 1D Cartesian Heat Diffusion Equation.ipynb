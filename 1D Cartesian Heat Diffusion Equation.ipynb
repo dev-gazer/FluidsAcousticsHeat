{
  "nbformat": 4,
  "nbformat_minor": 0,
  "metadata": {
    "colab": {
      "name": "1D Heat Equation.ipynb",
      "provenance": [],
      "authorship_tag": "ABX9TyNidB7K/yyAplyp4to0GM7j",
      "include_colab_link": true
    },
    "kernelspec": {
      "name": "python3",
      "display_name": "Python 3"
    }
  },
  "cells": [
    {
      "cell_type": "markdown",
      "metadata": {
        "id": "view-in-github",
        "colab_type": "text"
      },
      "source": [
        "<a href=\"https://colab.research.google.com/github/martuscellifaria/FluidsAcousticsHeat/blob/master/1D%20Cartesian%20Heat%20Diffusion%20Equation.ipynb\" target=\"_parent\"><img src=\"https://colab.research.google.com/assets/colab-badge.svg\" alt=\"Open In Colab\"/></a>"
      ]
    },
    {
      "cell_type": "markdown",
      "metadata": {
        "id": "l8DOTy3EzzGA",
        "colab_type": "text"
      },
      "source": [
        "\n",
        "## **1D Heat Diffusion**\n",
        "So, this time it's heat equation solving. Let's jump right in a 1D Unsteady heat diffusion problem. We'll start from a L = 2 m 304A Stainless Steel bar initially at 20 C. We'll add a rapidly heat up in the region of L/4 < x < L/2 to 80 C and cease the source immediately. The default solution is performed for 30 min, but you can change it to whatever time you want. You'll notice a slight increase in computational time as it is increased."
      ]
    },
    {
      "cell_type": "markdown",
      "metadata": {
        "id": "RTeK_1XOx4Xh",
        "colab_type": "text"
      },
      "source": [
        "## **1 Import libraries**\n",
        "Yeah, I know you already got it."
      ]
    },
    {
      "cell_type": "code",
      "metadata": {
        "id": "1staPxp_mEQD",
        "colab_type": "code",
        "colab": {}
      },
      "source": [
        "import numpy\n",
        "from matplotlib import pyplot as plt\n",
        "%matplotlib inline"
      ],
      "execution_count": 73,
      "outputs": []
    },
    {
      "cell_type": "markdown",
      "metadata": {
        "id": "JzDH5uDZyQaj",
        "colab_type": "text"
      },
      "source": [
        "## **2 Set your variables and calculate time and space divisions**"
      ]
    },
    {
      "cell_type": "code",
      "metadata": {
        "id": "WReev_eKo7zc",
        "colab_type": "code",
        "colab": {}
      },
      "source": [
        "L = 2 #Length in m\n",
        "t = 30*60 #Time in s\n",
        "nx = 801\n",
        "dx = L / (nx - 1)\n",
        "nu = 4.2*(10**-6) #Thermal diffusivity (in this case, it is for Stainless Steel 304A) in m²/s\n",
        "sigma = .2\n",
        "dt = sigma * dx**2 / nu\n",
        "nt = t/dt\n",
        "T_0 = 20 #Initial temperature in degrees Celsius"
      ],
      "execution_count": 74,
      "outputs": []
    },
    {
      "cell_type": "markdown",
      "metadata": {
        "id": "j1LxQWzlyrpV",
        "colab_type": "text"
      },
      "source": [
        "## **3 Initialize your problem**\n",
        "Ya know, initial and/or boundary conditions"
      ]
    },
    {
      "cell_type": "code",
      "metadata": {
        "id": "j4CbsoshpfmW",
        "colab_type": "code",
        "colab": {}
      },
      "source": [
        "T = T_0*numpy.ones(nx)      #Initialize the temperature vector\n",
        "T[int((L/4) / dx):int((L/2) / dx + 1)] = 80  #Set the initial conditions\n",
        "\n",
        "T_n = T_0*numpy.ones(nx) #Placeholder temperature vector"
      ],
      "execution_count": 75,
      "outputs": []
    },
    {
      "cell_type": "markdown",
      "metadata": {
        "id": "zc43Z-tpzArb",
        "colab_type": "text"
      },
      "source": [
        "## **4 Discretize the 1D Heat Equation and run the calculation!**"
      ]
    },
    {
      "cell_type": "code",
      "metadata": {
        "id": "9z71GwwHpnpV",
        "colab_type": "code",
        "colab": {}
      },
      "source": [
        "for n in range(round(nt)):  #iterate through time\n",
        "    Tn = T.copy() ##copy the existing values of u into un\n",
        "    for i in range(1, nx - 1):\n",
        "        T[i] = Tn[i] + nu * dt / dx**2 * (Tn[i+1] - 2 * Tn[i] + Tn[i-1])"
      ],
      "execution_count": 76,
      "outputs": []
    },
    {
      "cell_type": "markdown",
      "metadata": {
        "id": "GunAyVtwzaSd",
        "colab_type": "text"
      },
      "source": [
        "## **5 Plot the results**\n",
        "In this case, we're getting the temperature distribution at the end of the time interval set."
      ]
    },
    {
      "cell_type": "code",
      "metadata": {
        "id": "GpJF9TmUprvt",
        "colab_type": "code",
        "colab": {
          "base_uri": "https://localhost:8080/",
          "height": 295
        },
        "outputId": "3b04017e-5a8f-4c46-def2-5bb716c65232"
      },
      "source": [
        "plt.plot(numpy.linspace(0, L, nx), T)\n",
        "plt.title(\"Temperature distribution in the x-direction\")\n",
        "plt.xlabel('x [m]')\n",
        "plt.ylabel('T [C]')\n",
        "plt.grid(which='major')\n",
        "plt.grid(which='minor')\n",
        "plt.show()"
      ],
      "execution_count": 77,
      "outputs": [
        {
          "output_type": "display_data",
          "data": {
            "image/png": "[encoded data removed]",
            "text/plain": [
              "<Figure size 432x288 with 1 Axes>"
            ]
          },
          "metadata": {
            "tags": [],
            "needs_background": "light"
          }
        }
      ]
    },
    {
      "cell_type": "code",
      "metadata": {
        "id": "9YKqy0SdzrZD",
        "colab_type": "code",
        "colab": {}
      },
      "source": [
        ""
      ],
      "execution_count": null,
      "outputs": []
    }
  ]
}