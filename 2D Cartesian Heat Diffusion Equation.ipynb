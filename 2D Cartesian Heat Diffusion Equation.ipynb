{
  "nbformat": 4,
  "nbformat_minor": 0,
  "metadata": {
    "colab": {
      "name": "2D Heat Equation.ipynb",
      "provenance": [],
      "authorship_tag": "ABX9TyP6/osge3eFwWuTwQBytCiG",
      "include_colab_link": true
    },
    "kernelspec": {
      "name": "python3",
      "display_name": "Python 3"
    }
  },
  "cells": [
    {
      "cell_type": "markdown",
      "metadata": {
        "id": "view-in-github",
        "colab_type": "text"
      },
      "source": [
        "<a href=\"https://colab.research.google.com/github/martuscellifaria/FluidsAcousticsHeat/blob/master/2D%20Cartesian%20Heat%20Diffusion%20Equation.ipynb\" target=\"_parent\"><img src=\"https://colab.research.google.com/assets/colab-badge.svg\" alt=\"Open In Colab\"/></a>"
      ]
    },
    {
      "cell_type": "markdown",
      "metadata": {
        "id": "NjRmtaP4sDN0",
        "colab_type": "text"
      },
      "source": [
        "## **2D Heat Diffusion**\n",
        "One more step of heat equation solving. Let's jump right in a 2D Unsteady heat diffusion problem. We'll start from a rectangular flat surface of 304A Stainless Steel bar with dimensions Lx = 2 m, Ly = 2 m  initially at 20 C. We'll add a rapidly heat up in the region delimited by Lx/4 < x < Lx/2 and Ly/4 < y < Ly/2 to 80 C and cease the source immediately. The default solution is performed for one hour, but you can change it to whatever time you want. You'll notice a slight increase in computational time as it is increased."
      ]
    },
    {
      "cell_type": "markdown",
      "metadata": {
        "id": "STtf5Ppss6JI",
        "colab_type": "text"
      },
      "source": [
        "## **1 Import libraries**\n",
        "Yeah, I know you already got it."
      ]
    },
    {
      "cell_type": "code",
      "metadata": {
        "id": "TJ-COjcKjDQA",
        "colab_type": "code",
        "colab": {}
      },
      "source": [
        "import numpy as np\n",
        "from matplotlib import pyplot as plt\n",
        "from matplotlib import cm\n",
        "from mpl_toolkits.mplot3d import Axes3D ##library for 3d projection plots\n",
        "%matplotlib inline"
      ],
      "execution_count": 167,
      "outputs": []
    },
    {
      "cell_type": "markdown",
      "metadata": {
        "id": "B1DjmgOZtAfr",
        "colab_type": "text"
      },
      "source": [
        "## **2 Set your variables and calculate time and space divisions**"
      ]
    },
    {
      "cell_type": "code",
      "metadata": {
        "id": "9Xw1wINvj350",
        "colab_type": "code",
        "colab": {
          "base_uri": "https://localhost:8080/",
          "height": 34
        },
        "outputId": "edb759e6-eee3-4730-ccba-0b0c3f95c58a"
      },
      "source": [
        "Lx = 2\n",
        "Ly = 2\n",
        "nx = 101\n",
        "ny = 101\n",
        "t = 1*60*60\n",
        "nu = 4.2*(10**-6)\n",
        "dx = Lx / (nx - 1)\n",
        "dy = Ly / (ny - 1)\n",
        "sigma = .25\n",
        "dt = sigma * dx * dy / nu\n",
        "nt = round(t/dt)\n",
        "T_0 = 20\n",
        "T_i = 80\n",
        "nt"
      ],
      "execution_count": 168,
      "outputs": [
        {
          "output_type": "execute_result",
          "data": {
            "text/plain": [
              "151"
            ]
          },
          "metadata": {
            "tags": []
          },
          "execution_count": 168
        }
      ]
    },
    {
      "cell_type": "markdown",
      "metadata": {
        "id": "Ohs46NB0tH5v",
        "colab_type": "text"
      },
      "source": [
        "## **3 Initialize your problem**\n",
        "Ya know, initial and/or boundary conditions"
      ]
    },
    {
      "cell_type": "code",
      "metadata": {
        "id": "PvJR9lFlj6bo",
        "colab_type": "code",
        "colab": {}
      },
      "source": [
        "x = np.linspace(0, Lx, nx)\n",
        "y = np.linspace(0, Ly, ny)\n",
        "\n",
        "T = T_0*np.ones((ny, nx))  # Initialize temperature vector\n",
        "Tn = T_0*np.ones((ny, nx)) # Create a copy of that vector\n",
        "\n",
        "###Assign initial conditions\n",
        "T[int((Ly/4) / dy):int((Ly/2) / dy + 1),int((Lx/4) / dx):int((Lx/2) / dx + 1)] = T_i"
      ],
      "execution_count": 169,
      "outputs": []
    },
    {
      "cell_type": "markdown",
      "metadata": {
        "id": "AfJOiPwxtUyV",
        "colab_type": "text"
      },
      "source": [
        "## **4 Plot your the problem initial configuration**"
      ]
    },
    {
      "cell_type": "code",
      "metadata": {
        "id": "ZAvf0PJij92i",
        "colab_type": "code",
        "colab": {
          "base_uri": "https://localhost:8080/",
          "height": 295
        },
        "outputId": "dd241741-563c-491c-b586-16414a29ba9c"
      },
      "source": [
        "fig = plt.figure()\n",
        "X, Y = np.meshgrid(x, y)\n",
        "plt.contourf(X, Y, T, 100, cmap='jet')\n",
        "plt.title(\"Initial temperature distribution in a 2D surface\")\n",
        "plt.colorbar(label='T [C]')\n",
        "plt.xlabel('x [m]')\n",
        "plt.ylabel('y [m]')\n",
        "#plt.grid(which='major')\n",
        "#plt.grid(which='minor')\n",
        "plt.show()"
      ],
      "execution_count": 170,
      "outputs": [
        {
          "output_type": "display_data",
          "data": {
            "image/png": "[encoded data removed]",
            "text/plain": [
              "<Figure size 432x288 with 2 Axes>"
            ]
          },
          "metadata": {
            "tags": [],
            "needs_background": "light"
          }
        }
      ]
    },
    {
      "cell_type": "markdown",
      "metadata": {
        "id": "tHt5JTYTthR2",
        "colab_type": "text"
      },
      "source": [
        "## **5 Discretize the 2D Heat Equation**"
      ]
    },
    {
      "cell_type": "code",
      "metadata": {
        "id": "4EUUUifskCc3",
        "colab_type": "code",
        "colab": {}
      },
      "source": [
        "def diffuse(nt):\n",
        "    T[int((Ly/4) / dy):int((Ly/2) / dy + 1),int((Lx/4) / dx):int((Lx/2) / dx + 1)] = T_i  \n",
        "    \n",
        "    for n in range(nt + 1): \n",
        "        Tn = T.copy()\n",
        "        T[1:-1, 1:-1] = (Tn[1:-1,1:-1] + \n",
        "                        nu * dt / dx**2 * \n",
        "                        (Tn[1:-1, 2:] - 2 * Tn[1:-1, 1:-1] + Tn[1:-1, 0:-2]) +\n",
        "                        nu * dt / dy**2 * \n",
        "                        (Tn[2:,1: -1] - 2 * Tn[1:-1, 1:-1] + Tn[0:-2, 1:-1]))\n",
        "        T[0, :] = T_0\n",
        "        T[-1, :] = T_0\n",
        "        T[:, 0] = T_0\n",
        "        T[:, -1] = T_0\n",
        "    return T"
      ],
      "execution_count": 171,
      "outputs": []
    },
    {
      "cell_type": "markdown",
      "metadata": {
        "id": "gmjiChIftn5x",
        "colab_type": "text"
      },
      "source": [
        "## **6 Run it for any time step you want to!**\n",
        "Here, we're showing the last one, but you can choose any value from zero to the nt value displayed in section 2."
      ]
    },
    {
      "cell_type": "code",
      "metadata": {
        "id": "wXnCBRNOkHOU",
        "colab_type": "code",
        "colab": {
          "base_uri": "https://localhost:8080/",
          "height": 295
        },
        "outputId": "7e7a71f6-18c3-426b-dbbd-e871266a9b35"
      },
      "source": [
        "plt.contourf(X, Y, diffuse(nt), 100, cmap='jet')\n",
        "plt.title(\"Temperature distribution in a 2D surface after %d seconds\" %t)\n",
        "plt.colorbar(label='T [C]')\n",
        "plt.xlabel('x [m]')\n",
        "plt.ylabel('y [m]')\n",
        "plt.show()"
      ],
      "execution_count": 176,
      "outputs": [
        {
          "output_type": "display_data",
          "data": {
            "image/png": "[encoded data removed]",
            "text/plain": [
              "<Figure size 432x288 with 2 Axes>"
            ]
          },
          "metadata": {
            "tags": [],
            "needs_background": "light"
          }
        }
      ]
    },
    {
      "cell_type": "code",
      "metadata": {
        "id": "m7lBKCBUkLl8",
        "colab_type": "code",
        "colab": {}
      },
      "source": [
        ""
      ],
      "execution_count": 175,
      "outputs": []
    },
    {
      "cell_type": "code",
      "metadata": {
        "id": "1-UOZfYFu88d",
        "colab_type": "code",
        "colab": {}
      },
      "source": [
        ""
      ],
      "execution_count": 129,
      "outputs": []
    },
    {
      "cell_type": "code",
      "metadata": {
        "id": "uwE-YB2owDuz",
        "colab_type": "code",
        "colab": {}
      },
      "source": [
        ""
      ],
      "execution_count": 129,
      "outputs": []
    },
    {
      "cell_type": "code",
      "metadata": {
        "id": "8i8PEDHkwG2G",
        "colab_type": "code",
        "colab": {}
      },
      "source": [
        ""
      ],
      "execution_count": null,
      "outputs": []
    }
  ]
}