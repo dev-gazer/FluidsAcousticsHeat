{
  "nbformat": 4,
  "nbformat_minor": 0,
  "metadata": {
    "colab": {
      "name": "2D Helmholtz Equation.ipynb",
      "provenance": [],
      "authorship_tag": "ABX9TyMTidPFEHUvlf0yfG3EzTni",
      "include_colab_link": true
    },
    "kernelspec": {
      "name": "python3",
      "display_name": "Python 3"
    }
  },
  "cells": [
    {
      "cell_type": "markdown",
      "metadata": {
        "id": "view-in-github",
        "colab_type": "text"
      },
      "source": [
        "<a href=\"https://colab.research.google.com/github/martuscellifaria/FluidsAcousticsHeat/blob/master/2D_Helmholtz_Equation.ipynb\" target=\"_parent\"><img src=\"https://colab.research.google.com/assets/colab-badge.svg\" alt=\"Open In Colab\"/></a>"
      ]
    },
    {
      "cell_type": "markdown",
      "metadata": {
        "id": "xk6Ax70RaJ6w",
        "colab_type": "text"
      },
      "source": [
        "## **2D Homogeneous Helmholtz Equation**\n",
        "The objective of this notebook is to obtain a solution to the 2D Homogeneous Helmholtz equation. It is very similar to the Laplace Equation solving procedure and has a broad application in aeroacoustics."
      ]
    },
    {
      "cell_type": "markdown",
      "metadata": {
        "id": "JolThrxRajib",
        "colab_type": "text"
      },
      "source": [
        "## **1 Define libraries**\n",
        "Again and again and again and again..."
      ]
    },
    {
      "cell_type": "code",
      "metadata": {
        "id": "0NEJO1v5aIpt",
        "colab_type": "code",
        "colab": {}
      },
      "source": [
        "import numpy as np\n",
        "from matplotlib import pyplot as plt, cm\n",
        "from mpl_toolkits.mplot3d import Axes3D\n",
        "%matplotlib inline\n",
        "from numpy.lib import scimath as sm"
      ],
      "execution_count": 18,
      "outputs": []
    },
    {
      "cell_type": "markdown",
      "metadata": {
        "id": "DS6OiME-cixP",
        "colab_type": "text"
      },
      "source": [
        "## **2 Callable function definitions**\n",
        "In this step, the plot and the solution algorithm will be defined."
      ]
    },
    {
      "cell_type": "markdown",
      "metadata": {
        "id": "dfv9Wz8NgMae",
        "colab_type": "text"
      },
      "source": [
        "## **2.1 2D plot function**"
      ]
    },
    {
      "cell_type": "code",
      "metadata": {
        "id": "jmAIrcpclSdH",
        "colab_type": "code",
        "colab": {}
      },
      "source": [
        "def plot2D(x, z, p):\n",
        "  fig = plt.figure()\n",
        "  X, Z = np.meshgrid(x, z)\n",
        "  plt.contourf(X, Z, p, 100, cmap='jet')\n",
        "  plt.title(\"Pressure distribution in a 2D surface\")\n",
        "  plt.colorbar(label='P [Pa]')\n",
        "  plt.xlabel('x [m]')\n",
        "  plt.ylabel('z [m]')\n",
        "  #plt.grid(which='major')\n",
        "  #plt.grid(which='minor')\n",
        "  plt.show()"
      ],
      "execution_count": 19,
      "outputs": []
    },
    {
      "cell_type": "markdown",
      "metadata": {
        "id": "v9VU0ITTgrX_",
        "colab_type": "text"
      },
      "source": [
        "## **2.2 Helmholtz equation algorithm**"
      ]
    },
    {
      "cell_type": "code",
      "metadata": {
        "id": "CCccVkG6g1gp",
        "colab_type": "code",
        "colab": {}
      },
      "source": [
        "def helmholtz2d(p, z, dx, dz, l1norm_target):\n",
        "    l1norm = 1\n",
        "    pn = np.empty_like(p)\n",
        "\n",
        "    while l1norm > l1norm_target:\n",
        "        pn = p.copy()\n",
        "        p[1:-1, 1:-1] = ((dz**2 * (pn[1:-1, 2:] + pn[1:-1, 0:-2]) +\n",
        "                         dz**2 * (pn[2:, 1:-1] + pn[0:-2, 1:-1])) /\n",
        "                        ((2 * (dx**2 + dz**2)))-(kappa*dx*dz)**2)\n",
        "        \n",
        "        \n",
        "        p[:, 0] = 0  # p = 0 @ x = 0\n",
        "        p[:, -1] = 100  # p = z @ x = 2\n",
        "        p[0, :] = p[1, :] + C*dz*abs(np.exp(-1j*kx_bar_star*x[:]))  # dp/dz = 0 @ z = 0\n",
        "        \n",
        "        l1norm = (np.sum(np.abs(p[:]) - np.abs(pn[:])) /\n",
        "                np.sum(np.abs(pn[:])))\n",
        "     \n",
        "    return p"
      ],
      "execution_count": 20,
      "outputs": []
    },
    {
      "cell_type": "markdown",
      "metadata": {
        "id": "tf9s2v22hDAz",
        "colab_type": "text"
      },
      "source": [
        "## **3 Calculation setup**"
      ]
    },
    {
      "cell_type": "code",
      "metadata": {
        "id": "DP3VfERxhAKq",
        "colab_type": "code",
        "colab": {}
      },
      "source": [
        "##Preamble: Aerodynamics/Aeroacoustics\n",
        "b = 0.05 #half-chord\n",
        "f = 100 #Hz\n",
        "omega = 2*np.pi*f #rad/s\n",
        "U = 19 #m/s\n",
        "c_0 = 340\n",
        "M = U/c_0\n",
        "beta = np.sqrt(1-M**2)\n",
        "kx = omega/U\n",
        "kx_bar = kx*b\n",
        "kx_bar_star = kx_bar/(beta**2)\n",
        "mu = kx_bar_star*M\n",
        "kappa = np.sqrt(mu**2)\n",
        "w_0 = 30\n",
        "##variable declarations\n",
        "Lx = 2*b\n",
        "Lz = 2*b\n",
        "C = -w_0*b/beta\n",
        "nx = 61\n",
        "nz = 61\n",
        "dx = Lx / (nx - 1)\n",
        "dz = Lz / (nz - 1)\n",
        "\n",
        "\n",
        "##initial conditions\n",
        "p = np.zeros((nx, nz))  # create a XxY vector of 0's\n",
        "\n",
        "\n",
        "##plotting aids\n",
        "x = np.linspace(0, Lx, nx)\n",
        "z = np.linspace(0, Lz, nz)\n",
        "\n",
        "##boundary conditions\n",
        "p[:, 0] = 0  # p = 0 @ x = 0\n",
        "p[:, -1] = 100  # p = z @ x = 2\n",
        "p[0, :] = p[1, :] + C*dz  # dp/dz = 0 @ z = 0\n",
        "#p[-1, :] = p[-2, :]  # dp/dz = 0 @ z = 1"
      ],
      "execution_count": 37,
      "outputs": []
    },
    {
      "cell_type": "markdown",
      "metadata": {
        "id": "SrAG_cisoRXk",
        "colab_type": "text"
      },
      "source": [
        "## **4 Plotting the pseudoinitial conditions**\n",
        "That means: matrix of zeros with the boundary conditions applied."
      ]
    },
    {
      "cell_type": "code",
      "metadata": {
        "id": "ZiA4iyfhn-_j",
        "colab_type": "code",
        "colab": {
          "base_uri": "https://localhost:8080/",
          "height": 295
        },
        "outputId": "6159666d-0df9-4d71-9b1a-2cbd5307ea1a"
      },
      "source": [
        "plot2D(x, z, p)"
      ],
      "execution_count": 38,
      "outputs": [
        {
          "output_type": "display_data",
          "data": {
            "image/png": "[encoded data removed]",
            "text/plain": [
              "<Figure size 432x288 with 2 Axes>"
            ]
          },
          "metadata": {
            "tags": [],
            "needs_background": "light"
          }
        }
      ]
    },
    {
      "cell_type": "markdown",
      "metadata": {
        "id": "T3CMLV2Boshj",
        "colab_type": "text"
      },
      "source": [
        "## **5 Calling the 2D Homogeneous Helmholtz equation algorithm**"
      ]
    },
    {
      "cell_type": "code",
      "metadata": {
        "id": "MiGa1XyAoN76",
        "colab_type": "code",
        "colab": {}
      },
      "source": [
        "p = helmholtz2d(p, z, dx, dz, 1e-4)"
      ],
      "execution_count": 39,
      "outputs": []
    },
    {
      "cell_type": "markdown",
      "metadata": {
        "id": "1osT-HWUpMb6",
        "colab_type": "text"
      },
      "source": [
        "## **6 Plotting the 2D solution of the Homogeneous Helmholtz equation**"
      ]
    },
    {
      "cell_type": "code",
      "metadata": {
        "id": "jovN-4tCpDaM",
        "colab_type": "code",
        "colab": {
          "base_uri": "https://localhost:8080/",
          "height": 295
        },
        "outputId": "230f899e-369f-4e77-fd3f-8edd79c309a9"
      },
      "source": [
        "plot2D(x, z, p)"
      ],
      "execution_count": 40,
      "outputs": [
        {
          "output_type": "display_data",
          "data": {
            "image/png": "[encoded data removed]",
            "text/plain": [
              "<Figure size 432x288 with 2 Axes>"
            ]
          },
          "metadata": {
            "tags": [],
            "needs_background": "light"
          }
        }
      ]
    },
    {
      "cell_type": "code",
      "metadata": {
        "id": "_K73-kb2pJd3",
        "colab_type": "code",
        "colab": {}
      },
      "source": [
        ""
      ],
      "execution_count": null,
      "outputs": []
    }
  ]
}