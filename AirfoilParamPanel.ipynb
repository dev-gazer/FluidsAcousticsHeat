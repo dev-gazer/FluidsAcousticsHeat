{
  "nbformat": 4,
  "nbformat_minor": 0,
  "metadata": {
    "colab": {
      "name": "AirfoilParamPanel.ipynb",
      "provenance": [],
      "collapsed_sections": [],
      "authorship_tag": "ABX9TyN9LUKnahsb8Ld+7Ii1bYz8",
      "include_colab_link": true
    },
    "kernelspec": {
      "name": "python3",
      "display_name": "Python 3"
    }
  },
  "cells": [
    {
      "cell_type": "markdown",
      "metadata": {
        "id": "view-in-github",
        "colab_type": "text"
      },
      "source": [
        "<a href=\"https://colab.research.google.com/github/martuscellifaria/FluidsAndAcoustics/blob/master/AirfoilParamPanel.ipynb\" target=\"_parent\"><img src=\"https://colab.research.google.com/assets/colab-badge.svg\" alt=\"Open In Colab\"/></a>"
      ]
    },
    {
      "cell_type": "markdown",
      "metadata": {
        "id": "VGJScXVTQgAZ",
        "colab_type": "text"
      },
      "source": [
        "## **Airfoil parametrization and lift coefficient estimation based on panel method**\n",
        "The final objective is to optimize airfoil geometries for Wind Turbine applications. First, the David Ziemkiewicz function is implemented (see in https://arxiv.org/pdf/1701.00817.pdf), so the panel method is applied in order to discretize the airfoil and set it ready to aerodynamics and aeroacoustics calculations. Then, the optimization method shall be implemented in order to set aerodynamic noise as a design constraint."
      ]
    },
    {
      "cell_type": "markdown",
      "metadata": {
        "id": "W9pJHD9pXVr3",
        "colab_type": "text"
      },
      "source": [
        "## **1 Libraries definition**\n",
        "First things first, yet again, right?"
      ]
    },
    {
      "cell_type": "code",
      "metadata": {
        "id": "4xXbN7u_PX2O",
        "colab_type": "code",
        "colab": {}
      },
      "source": [
        "import numpy as np\n",
        "import pandas as pd\n",
        "from scipy import integrate, linalg\n",
        "from matplotlib import pyplot as plt\n",
        "# integrate plots into the notebook\n",
        "%matplotlib inline"
      ],
      "execution_count": 1,
      "outputs": []
    },
    {
      "cell_type": "markdown",
      "metadata": {
        "id": "wRwep-imYm15",
        "colab_type": "text"
      },
      "source": [
        "## **2 Set the initial design constraints and all fluid properties**\n",
        "Ya know, Mach, Reynolds, desired thickness, viscosity, density. That will be important, trust me!"
      ]
    },
    {
      "cell_type": "code",
      "metadata": {
        "id": "4-JPU0Q-X0E3",
        "colab_type": "code",
        "colab": {}
      },
      "source": [
        "M = 0.21\n",
        "Re = 7000000\n",
        "rho = 1.225 #kg/m³\n",
        "mu = 1.81*(10**(-5)) #Pa*s\n",
        "c_0 = 340 #m/s\n",
        "des_max_th = 21 #% for WT airfoils\n",
        "alpha = 0 #Angle of Attack"
      ],
      "execution_count": 24,
      "outputs": []
    },
    {
      "cell_type": "markdown",
      "metadata": {
        "id": "cWw5W2nGaEI8",
        "colab_type": "text"
      },
      "source": [
        "## **2.1 Obtain the airfoil chord**"
      ]
    },
    {
      "cell_type": "code",
      "metadata": {
        "id": "ktC8CMsWaDlI",
        "colab_type": "code",
        "colab": {
          "base_uri": "https://localhost:8080/",
          "height": 34
        },
        "outputId": "837ad53e-fb0b-43c9-dd7d-a8c992c09f2e"
      },
      "source": [
        "u = M*c_0\n",
        "chord = Re*mu/(rho*u)\n",
        "print('The airfoil has a chord of approximate {:0.2} m'.format(chord))"
      ],
      "execution_count": 9,
      "outputs": [
        {
          "output_type": "stream",
          "text": [
            "The airfoil has a chord of approximate 1.4 m\n"
          ],
          "name": "stdout"
        }
      ]
    },
    {
      "cell_type": "markdown",
      "metadata": {
        "id": "Y5EBVRIabpGF",
        "colab_type": "text"
      },
      "source": [
        "## **2.2 Set the values for the parametrization**"
      ]
    },
    {
      "cell_type": "code",
      "metadata": {
        "id": "GJnlyhx4ae8B",
        "colab_type": "code",
        "colab": {}
      },
      "source": [
        "Np = 51 #number of panels\n",
        "theta = np.linspace(0, 2*np.pi, Np)\n",
        "B = 2.2 #For NACA profiles B = 2\n",
        "T = (des_max_th/12)*(np.pi/17) #For max 12% set T = np.pi/17\n",
        "P = 0.9 #For NACA profiles P = 1\n",
        "C = 0.07 #For NACA profiles C = 0\n",
        "E = 1.01 #For NACA profiles E = 0\n",
        "R = 0 #For NACA profiles R = 0"
      ],
      "execution_count": 71,
      "outputs": []
    },
    {
      "cell_type": "markdown",
      "metadata": {
        "id": "m8NvJa51dCUr",
        "colab_type": "text"
      },
      "source": [
        "## **2.3 Run the parametrization**"
      ]
    },
    {
      "cell_type": "code",
      "metadata": {
        "id": "UZEMuIrlcYOI",
        "colab_type": "code",
        "colab": {
          "base_uri": "https://localhost:8080/",
          "height": 52
        },
        "outputId": "c302a868-72ac-4622-a3f0-36a1de7c18eb"
      },
      "source": [
        "X = ((0.5*abs(np.cos(theta))**B/np.cos(theta))+0.5)\n",
        "Th = (T/2)*(abs(np.sin(theta))**B/np.sin(theta))*((1-X)**P)\n",
        "Th[0] = 0 #To avoid division by zero for theta = 0\n",
        "Cm = (C*np.sin(np.pi*X**E))+(R*np.sin(2*np.pi*X))\n",
        "Y = Th + Cm\n",
        "x = chord*X\n",
        "y = chord*Y"
      ],
      "execution_count": 72,
      "outputs": [
        {
          "output_type": "stream",
          "text": [
            "/usr/local/lib/python3.6/dist-packages/ipykernel_launcher.py:2: RuntimeWarning: invalid value encountered in true_divide\n",
            "  \n"
          ],
          "name": "stderr"
        }
      ]
    },
    {
      "cell_type": "markdown",
      "metadata": {
        "id": "XWlqRl5tdRw2",
        "colab_type": "text"
      },
      "source": [
        "## **2.4 Plot the airfoil**"
      ]
    },
    {
      "cell_type": "code",
      "metadata": {
        "id": "MynrZWt4cYtT",
        "colab_type": "code",
        "colab": {
          "base_uri": "https://localhost:8080/",
          "height": 283
        },
        "outputId": "9f0473f8-3bc8-4d29-c241-15caec65c91d"
      },
      "source": [
        "plt.figure()\n",
        "plt.plot(x, y)\n",
        "plt.xlabel('x')\n",
        "plt.ylabel('y')\n",
        "#plt.xlim([0, 1])\n",
        "#plt.axis('scaled', adjustable='box')\n",
        "#plt.xlim(-0.1, 1.1)\n",
        "plt.ylim([-1, 1])\n",
        "plt.grid(which='major')\n",
        "plt.grid(which='minor')\n",
        "plt.show()"
      ],
      "execution_count": 73,
      "outputs": [
        {
          "output_type": "display_data",
          "data": {
            "image/png": "[encoded data removed]",
            "text/plain": [
              "<Figure size 432x288 with 1 Axes>"
            ]
          },
          "metadata": {
            "tags": [],
            "needs_background": "light"
          }
        }
      ]
    },
    {
      "cell_type": "markdown",
      "metadata": {
        "id": "vGBrQc7SgTL8",
        "colab_type": "text"
      },
      "source": [
        "## **3 Panel method**"
      ]
    },
    {
      "cell_type": "code",
      "metadata": {
        "id": "WD4FyF6jdMtj",
        "colab_type": "code",
        "colab": {}
      },
      "source": [
        "class Panel:\n",
        "    def __init__(self, xa, ya, xb, yb):\n",
        "        self.xa, self.ya = xa, ya  # panel starting-point\n",
        "        self.xb, self.yb = xb, yb  # panel ending-point\n",
        "        \n",
        "        self.xc, self.yc = (xa + xb) / 2, (ya + yb) / 2  # panel center\n",
        "        self.length = np.sqrt((xb - xa)**2 + (yb - ya)**2)  # panel length\n",
        "        \n",
        "        # orientation of panel (angle between x-axis and panel's normal)\n",
        "        if xb - xa <= 0.0:\n",
        "            self.beta = np.arccos((yb - ya) / self.length)\n",
        "        elif xb - xa > 0.0:\n",
        "            self.beta = np.pi + np.arccos(-(yb - ya) / self.length)\n",
        "        \n",
        "        # panel location\n",
        "        if self.beta <= np.pi:\n",
        "            self.loc = 'upper'  # upper surface\n",
        "        else:\n",
        "            self.loc = 'lower'  # lower surface\n",
        "        \n",
        "        self.sigma = 0.0  # source strength\n",
        "        self.vt = 0.0  # tangential velocity\n",
        "        self.cp = 0.0  # pressure coefficient"
      ],
      "execution_count": 74,
      "outputs": []
    },
    {
      "cell_type": "code",
      "metadata": {
        "id": "XNiBG0cbdi7K",
        "colab_type": "code",
        "colab": {}
      },
      "source": [
        "def define_panels(x, y, N=Np):\n",
        "\n",
        "    \n",
        "    R = (x.max() - x.min()) / 2.0  # circle radius\n",
        "    x_center = (x.max() + x.min()) / 2.0  # x-coordinate of circle center\n",
        "    \n",
        "    theta = np.linspace(0.0, 2.0 * np.pi, N + 1)  # array of angles\n",
        "    x_circle = x_center + R * np.cos(theta)  # x-coordinates of circle\n",
        "    \n",
        "    x_ends = np.copy(x_circle)  # x-coordinate of panels end-points\n",
        "    y_ends = np.empty_like(x_ends)  # y-coordinate of panels end-points\n",
        "    \n",
        "    # extend coordinates to consider closed surface\n",
        "    x, y = np.append(x, x[0]), np.append(y, y[0])\n",
        "    \n",
        "    # compute y-coordinate of end-points by projection\n",
        "    I = 0\n",
        "    for i in range(N):\n",
        "        while I < len(x) - 1:\n",
        "            if (x[I] <= x_ends[i] <= x[I + 1]) or (x[I + 1] <= x_ends[i] <= x[I]):\n",
        "                break\n",
        "            else:\n",
        "                I += 1\n",
        "        a = (y[I + 1] - y[I]) / (x[I + 1] - x[I])\n",
        "        b = y[I + 1] - a * x[I + 1]\n",
        "        y_ends[i] = a * x_ends[i] + b\n",
        "    y_ends[N] = y_ends[0]\n",
        "    \n",
        "    # create panels\n",
        "    panels = np.empty(N, dtype=object)\n",
        "    for i in range(N):\n",
        "        panels[i] = Panel(x_ends[i], y_ends[i], x_ends[i + 1], y_ends[i + 1])\n",
        "    \n",
        "    return panels"
      ],
      "execution_count": 75,
      "outputs": []
    },
    {
      "cell_type": "code",
      "metadata": {
        "id": "MMC6Jc_qdoax",
        "colab_type": "code",
        "colab": {}
      },
      "source": [
        "# discretize geoemetry into panels\n",
        "panels = define_panels(x, y, N=Np-1)"
      ],
      "execution_count": 76,
      "outputs": []
    },
    {
      "cell_type": "code",
      "metadata": {
        "id": "QdUGeBeBdrEu",
        "colab_type": "code",
        "colab": {
          "base_uri": "https://localhost:8080/",
          "height": 288
        },
        "outputId": "2a6d9143-6c8c-4e6d-e4b6-0ff3c93887c1"
      },
      "source": [
        "# plot discretized geometry\n",
        "#width = 10\n",
        "plt.figure()#(figsize=(width, width))\n",
        "plt.grid()\n",
        "plt.xlabel('x', fontsize=16)\n",
        "plt.ylabel('y', fontsize=16)\n",
        "plt.plot(x, y, color='k', linestyle='-', linewidth=2)\n",
        "plt.plot(np.append([panel.xa for panel in panels], panels[0].xa),\n",
        "            np.append([panel.ya for panel in panels], panels[0].ya),\n",
        "            linestyle='-', linewidth=1, marker='o', markersize=6, color='#CD2305')\n",
        "#plt.axis('scaled', adjustable='box')\n",
        "#plt.xlim(-0.1, 1.1)\n",
        "plt.ylim([-1, 1])\n",
        "plt.show()"
      ],
      "execution_count": 77,
      "outputs": [
        {
          "output_type": "display_data",
          "data": {
            "image/png": "[encoded data removed]",
            "text/plain": [
              "<Figure size 432x288 with 1 Axes>"
            ]
          },
          "metadata": {
            "tags": [],
            "needs_background": "light"
          }
        }
      ]
    },
    {
      "cell_type": "code",
      "metadata": {
        "id": "38ic86-IduYK",
        "colab_type": "code",
        "colab": {}
      },
      "source": [
        "class Freestream:\n",
        "    def __init__(self, u, alpha):\n",
        "        self.u = u\n",
        "        self.alpha = np.radians(alpha)  # degrees to radians"
      ],
      "execution_count": 78,
      "outputs": []
    },
    {
      "cell_type": "code",
      "metadata": {
        "id": "gdG6F4Ead0MT",
        "colab_type": "code",
        "colab": {}
      },
      "source": [
        "# define freestream conditions\n",
        "freestream = Freestream(u, alpha)"
      ],
      "execution_count": 79,
      "outputs": []
    },
    {
      "cell_type": "code",
      "metadata": {
        "id": "cV9jMBard9p1",
        "colab_type": "code",
        "colab": {}
      },
      "source": [
        "def integral(x, y, panel, dxdk, dydk):\n",
        "    def integrand(s):\n",
        "        return (((x - (panel.xa - np.sin(panel.beta) * s)) * dxdk +\n",
        "                 (y - (panel.ya + np.cos(panel.beta) * s)) * dydk) /\n",
        "                ((x - (panel.xa - np.sin(panel.beta) * s))**2 +\n",
        "                 (y - (panel.ya + np.cos(panel.beta) * s))**2) )\n",
        "    return integrate.quad(integrand, 0.0, panel.length)[0]"
      ],
      "execution_count": 80,
      "outputs": []
    },
    {
      "cell_type": "code",
      "metadata": {
        "id": "sv-Rdv5zeKlE",
        "colab_type": "code",
        "colab": {}
      },
      "source": [
        "def source_contribution_normal(panels):\n",
        "    A = np.empty((panels.size, panels.size), dtype=float)\n",
        "    # source contribution on a panel from itself\n",
        "    np.fill_diagonal(A, 0.5)\n",
        "    # source contribution on a panel from others\n",
        "    for i, panel_i in enumerate(panels):\n",
        "        for j, panel_j in enumerate(panels):\n",
        "            if i != j:\n",
        "                A[i, j] = 0.5 / np.pi * integral(panel_i.xc, panel_i.yc, \n",
        "                                                    panel_j,\n",
        "                                                    np.cos(panel_i.beta),\n",
        "                                                    np.sin(panel_i.beta))\n",
        "    return A"
      ],
      "execution_count": 81,
      "outputs": []
    },
    {
      "cell_type": "code",
      "metadata": {
        "id": "H-WI3DDUeORX",
        "colab_type": "code",
        "colab": {}
      },
      "source": [
        "def vortex_contribution_normal(panels):\n",
        "    A = np.empty((panels.size, panels.size), dtype=float)\n",
        "    # vortex contribution on a panel from itself\n",
        "    np.fill_diagonal(A, 0.0)\n",
        "    # vortex contribution on a panel from others\n",
        "    for i, panel_i in enumerate(panels):\n",
        "        for j, panel_j in enumerate(panels):\n",
        "            if i != j:\n",
        "                A[i, j] = -0.5 / np.pi * integral(panel_i.xc, panel_i.yc, \n",
        "                                                     panel_j,\n",
        "                                                     np.sin(panel_i.beta),\n",
        "                                                     -np.cos(panel_i.beta))\n",
        "    return A"
      ],
      "execution_count": 82,
      "outputs": []
    },
    {
      "cell_type": "code",
      "metadata": {
        "id": "Bb2u_RvpeSD7",
        "colab_type": "code",
        "colab": {
          "base_uri": "https://localhost:8080/",
          "height": 159
        },
        "outputId": "6a1e69ed-5d2d-4082-9f5e-a70b65bf743a"
      },
      "source": [
        "A_source = source_contribution_normal(panels)\n",
        "B_vortex = vortex_contribution_normal(panels)"
      ],
      "execution_count": 83,
      "outputs": [
        {
          "output_type": "stream",
          "text": [
            "/usr/local/lib/python3.6/dist-packages/ipykernel_launcher.py:7: IntegrationWarning: The maximum number of subdivisions (50) has been achieved.\n",
            "  If increasing the limit yields no improvement it is advised to analyze \n",
            "  the integrand in order to determine the difficulties.  If the position of a \n",
            "  local difficulty can be determined (singularity, discontinuity) one will \n",
            "  probably gain from splitting up the interval and calling the integrator \n",
            "  on the subranges.  Perhaps a special-purpose integrator should be used.\n",
            "  import sys\n"
          ],
          "name": "stderr"
        }
      ]
    },
    {
      "cell_type": "code",
      "metadata": {
        "id": "aTeSMu2FeVAB",
        "colab_type": "code",
        "colab": {}
      },
      "source": [
        "def kutta_condition(A_source, B_vortex):\n",
        "    b = np.empty(A_source.shape[0] + 1, dtype=float)\n",
        "    # matrix of source contribution on tangential velocity\n",
        "    # is the same than\n",
        "    # matrix of vortex contribution on normal velocity\n",
        "    b[:-1] = B_vortex[0, :] + B_vortex[-1, :]\n",
        "    # matrix of vortex contribution on tangential velocity\n",
        "    # is the opposite of\n",
        "    # matrix of source contribution on normal velocity\n",
        "    b[-1] = - np.sum(A_source[0, :] + A_source[-1, :])\n",
        "    return b"
      ],
      "execution_count": 84,
      "outputs": []
    },
    {
      "cell_type": "code",
      "metadata": {
        "id": "DozCz4O2elw1",
        "colab_type": "code",
        "colab": {}
      },
      "source": [
        "def build_singularity_matrix(A_source, B_vortex):\n",
        "    A = np.empty((A_source.shape[0] + 1, A_source.shape[1] + 1), dtype=float)\n",
        "    # source contribution matrix\n",
        "    A[:-1, :-1] = A_source\n",
        "    # vortex contribution array\n",
        "    A[:-1, -1] = np.sum(B_vortex, axis=1)\n",
        "    # Kutta condition array\n",
        "    A[-1, :] = kutta_condition(A_source, B_vortex)\n",
        "    return A"
      ],
      "execution_count": 85,
      "outputs": []
    },
    {
      "cell_type": "code",
      "metadata": {
        "id": "TKuHIatAeoSE",
        "colab_type": "code",
        "colab": {}
      },
      "source": [
        "def build_freestream_rhs(panels, freestream):\n",
        "    b = np.empty(panels.size + 1, dtype=float)\n",
        "    # freestream contribution on each panel\n",
        "    for i, panel in enumerate(panels):\n",
        "        b[i] = -freestream.u * np.cos(freestream.alpha - panel.beta)\n",
        "    # freestream contribution on the Kutta condition\n",
        "    b[-1] = -freestream.u * (np.sin(freestream.alpha - panels[0].beta) +\n",
        "                                 np.sin(freestream.alpha - panels[-1].beta) )\n",
        "    return b"
      ],
      "execution_count": 86,
      "outputs": []
    },
    {
      "cell_type": "code",
      "metadata": {
        "id": "ca4-en7oerYN",
        "colab_type": "code",
        "colab": {}
      },
      "source": [
        "A = build_singularity_matrix(A_source, B_vortex)\n",
        "b = build_freestream_rhs(panels, freestream)"
      ],
      "execution_count": 87,
      "outputs": []
    },
    {
      "cell_type": "code",
      "metadata": {
        "id": "3T1RWIssex6_",
        "colab_type": "code",
        "colab": {}
      },
      "source": [
        "# solve for singularity strengths\n",
        "strengths = np.linalg.solve(A, b)\n",
        "\n",
        "# store source strength on each panel\n",
        "for i , panel in enumerate(panels):\n",
        "    panel.sigma = strengths[i]\n",
        "    \n",
        "# store circulation density\n",
        "gamma = strengths[-1]"
      ],
      "execution_count": 88,
      "outputs": []
    },
    {
      "cell_type": "code",
      "metadata": {
        "id": "m4Yczispe9Cj",
        "colab_type": "code",
        "colab": {}
      },
      "source": [
        "def compute_tangential_velocity(panels, freestream, gamma, A_source, B_vortex):\n",
        "    A = np.empty((panels.size, panels.size + 1), dtype=float)\n",
        "    # matrix of source contribution on tangential velocity\n",
        "    # is the same than\n",
        "    # matrix of vortex contribution on normal velocity\n",
        "    A[:, :-1] = B_vortex\n",
        "    # matrix of vortex contribution on tangential velocity\n",
        "    # is the opposite of\n",
        "    # matrix of source contribution on normal velocity\n",
        "    A[:, -1] = -np.sum(A_source, axis=1)\n",
        "    # freestream contribution\n",
        "    b = freestream.u * np.sin([freestream.alpha - panel.beta \n",
        "                                      for panel in panels])\n",
        "    \n",
        "    strengths = np.append([panel.sigma for panel in panels], gamma)\n",
        "    \n",
        "    tangential_velocities = np.dot(A, strengths) + b\n",
        "    \n",
        "    for i, panel in enumerate(panels):\n",
        "        panel.vt = tangential_velocities[i]"
      ],
      "execution_count": 89,
      "outputs": []
    },
    {
      "cell_type": "code",
      "metadata": {
        "id": "DlhrD6VDfBKt",
        "colab_type": "code",
        "colab": {}
      },
      "source": [
        "# tangential velocity at each panel center.\n",
        "compute_tangential_velocity(panels, freestream, gamma, A_source, B_vortex)"
      ],
      "execution_count": 90,
      "outputs": []
    },
    {
      "cell_type": "code",
      "metadata": {
        "id": "7GygXwHMfEAw",
        "colab_type": "code",
        "colab": {}
      },
      "source": [
        "def compute_pressure_coefficient(panels, freestream):\n",
        "    for panel in panels:\n",
        "        panel.cp = 1.0 - (panel.vt / freestream.u)**2"
      ],
      "execution_count": 91,
      "outputs": []
    },
    {
      "cell_type": "code",
      "metadata": {
        "id": "1yMxTP5IfUXJ",
        "colab_type": "code",
        "colab": {}
      },
      "source": [
        "# surface pressure coefficient\n",
        "compute_pressure_coefficient(panels, freestream)"
      ],
      "execution_count": 92,
      "outputs": []
    },
    {
      "cell_type": "code",
      "metadata": {
        "id": "b0Z5cJhDfbod",
        "colab_type": "code",
        "colab": {
          "base_uri": "https://localhost:8080/",
          "height": 411
        },
        "outputId": "d211c552-972a-4d53-de1a-741ef1e446a7"
      },
      "source": [
        "# plot surface pressure coefficient\n",
        "plt.figure(figsize=(10, 6))\n",
        "plt.grid()\n",
        "plt.xlabel('$x$', fontsize=16)\n",
        "plt.ylabel('$C_p$', fontsize=16)\n",
        "plt.plot([panel.xc for panel in panels if panel.loc == 'upper'],\n",
        "            [panel.cp for panel in panels if panel.loc == 'upper'],\n",
        "            label='upper surface',\n",
        "            color='r', linestyle='-', linewidth=2, marker='o', markersize=6)\n",
        "plt.plot([panel.xc for panel in panels if panel.loc == 'lower'],\n",
        "            [panel.cp for panel in panels if panel.loc == 'lower'],\n",
        "            label= 'lower surface',\n",
        "            color='b', linestyle='-', linewidth=1, marker='o', markersize=6)\n",
        "plt.legend(loc='best', prop={'size':16})\n",
        "#plt.xlim(-0.1, 1.1)\n",
        "plt.ylim(1.0, -2.0)\n",
        "plt.title('Number of panels: {}'.format(panels.size), fontsize=16)\n",
        "plt.show()"
      ],
      "execution_count": 93,
      "outputs": [
        {
          "output_type": "display_data",
          "data": {
            "image/png": "[encoded data removed]",
            "text/plain": [
              "<Figure size 720x432 with 1 Axes>"
            ]
          },
          "metadata": {
            "tags": [],
            "needs_background": "light"
          }
        }
      ]
    },
    {
      "cell_type": "code",
      "metadata": {
        "id": "vTpd5a4qff3Y",
        "colab_type": "code",
        "colab": {
          "base_uri": "https://localhost:8080/",
          "height": 34
        },
        "outputId": "72aa47b0-5dd1-4ca6-dbb5-0816ec63a3ea"
      },
      "source": [
        "# calculate the accuracy\n",
        "accuracy = sum([panel.sigma * panel.length for panel in panels])\n",
        "print('sum of singularity strengths: {:0.6f}'.format(accuracy))"
      ],
      "execution_count": 94,
      "outputs": [
        {
          "output_type": "stream",
          "text": [
            "sum of singularity strengths: 0.769015\n"
          ],
          "name": "stdout"
        }
      ]
    },
    {
      "cell_type": "code",
      "metadata": {
        "id": "854LvzgMfnSS",
        "colab_type": "code",
        "colab": {
          "base_uri": "https://localhost:8080/",
          "height": 34
        },
        "outputId": "15a2355e-55dc-45cd-af50-de0617f39503"
      },
      "source": [
        "# compute the chord and lift coefficient\n",
        "c = abs(max(panel.xa for panel in panels) -\n",
        "        min(panel.xa for panel in panels))\n",
        "cl = (gamma * sum(panel.length for panel in panels) /\n",
        "      (0.5 * freestream.u * c))\n",
        "print('lift coefficient: CL = {:0.3f}'.format(cl))"
      ],
      "execution_count": 95,
      "outputs": [
        {
          "output_type": "stream",
          "text": [
            "lift coefficient: CL = 0.855\n"
          ],
          "name": "stdout"
        }
      ]
    },
    {
      "cell_type": "code",
      "metadata": {
        "id": "VW5SbR_Rfuu7",
        "colab_type": "code",
        "colab": {}
      },
      "source": [
        ""
      ],
      "execution_count": null,
      "outputs": []
    }
  ]
}